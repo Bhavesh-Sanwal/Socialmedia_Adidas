{
  "nbformat": 4,
  "nbformat_minor": 0,
  "metadata": {
    "colab": {
      "name": "CrowdTangle_API_Adidas.ipynb",
      "provenance": [],
      "collapsed_sections": []
    },
    "kernelspec": {
      "name": "python3",
      "display_name": "Python 3"
    }
  },
  "cells": [
    {
      "cell_type": "markdown",
      "metadata": {
        "id": "EjXxCFXEixsS"
      },
      "source": [
        "## Creating DF for IDs\n"
      ]
    },
    {
      "cell_type": "code",
      "metadata": {
        "id": "03AZ7k_HV-T6"
      },
      "source": [
        "import requests\n",
        "from pandas.io.json import json_normalize\n",
        "from pandas import DataFrame\n",
        "import pandas as pd \n",
        "import time\n",
        "from datetime import datetime"
      ],
      "execution_count": 2,
      "outputs": []
    },
    {
      "cell_type": "code",
      "metadata": {
        "id": "S5iA4Y4iUQQN"
      },
      "source": [
        "access_token = ''\n",
        "req = requests.get('https://api.crowdtangle.com/lists?token='+access_token)"
      ],
      "execution_count": 3,
      "outputs": []
    },
    {
      "cell_type": "code",
      "metadata": {
        "id": "kKRnBm75W_99"
      },
      "source": [
        "df_id = pd.DataFrame(columns=['type','id','title'])\n",
        "types = ['SAVED_SEARCH']\n",
        "ids = req.json()['result']['lists']\n",
        "num = 0\n",
        "for i in range(len(ids)):\n",
        "  if(ids[i]['type'] in types):\n",
        "    df_id.loc[num] = ''\n",
        "    df_id['type'][num] = ids[i]['type']\n",
        "    df_id['id'][num] = ids[i]['id']\n",
        "    df_id['title'][num] = ids[i]['title']\n",
        "    num +=1"
      ],
      "execution_count": 5,
      "outputs": []
    },
    {
      "cell_type": "code",
      "metadata": {
        "id": "WcI4WsLNkmIT"
      },
      "source": [
        "icount = '100'\n",
        "access_token = ''\n",
        "temp = requests.get('https://api.crowdtangle.com/posts?token='+access_token+'&listIds=1416869&count=100&startDate=2020-10-05T00:00:00&endDate=2020-10-05T23:59:59&offset=0&sortBy=oldest')"
      ],
      "execution_count": 18,
      "outputs": []
    },
    {
      "cell_type": "code",
      "metadata": {
        "id": "iBkyUYx7Kfr5",
        "outputId": "148d68d4-8a89-4905-8582-1b90b47d09a8",
        "colab": {
          "base_uri": "https://localhost:8080/",
          "height": 119
        }
      },
      "source": [
        "%%time\n",
        "import re\n",
        "list_ids = '1416869'\n",
        "start_date = '2020-10-05 00:00:00'\n",
        "start_date = re.sub(' ','T',start_date)\n",
        "end_date = '2020-10-05 23:59:59'\n",
        "end_date = re.sub(' ','T',end_date)\n",
        "icount = '100'\n",
        "access_token = ''\n",
        "\n",
        "df_post_data = pd.DataFrame(columns=['Tool','date','handle','name','platform','subscriberCount','post_type','postUrl','actual_commentCount','actual_favoriteCount','expected_commentCount','expected_favoriteCount'])\n",
        "num = 0\n",
        "count = 0\n",
        "pagination_flag = True\n",
        "while (pagination_flag):\n",
        "  print('Search Indexed old start:',start_date)\n",
        "  req_list = requests.get('https://api.crowdtangle.com/posts?token='+access_token+'&listIds='+list_ids+'&count='+icount+'&startDate='+start_date+'&endDate='+end_date+'&sortBy=oldest')\n",
        "  #new start date as the last value in the list of post and converting it to a format that API accepts\n",
        "  start_date = req_list.json()['result']['posts'][-1]['date']\n",
        "  start_date = re.sub(' ','T',start_date)\n",
        "  print('Search Indexed new start:',start_date)\n",
        "  print('Records retrived:',len(req_list.json()['result']['posts']))\n",
        "  data = req_list.json()['result']['posts']\n",
        "  for i in range(len(data)):\n",
        "    df_post_data.loc[num]=''\n",
        "    df_post_data['Tool'][num] = 'CrowdTangle'\n",
        "    df_post_data['date'][num] = data[i]['date']\n",
        "    df_post_data['handle'][num] = data[i]['account']['handle']\n",
        "    df_post_data['name'][num] = data[i]['account']['name']\n",
        "    df_post_data['subscriberCount'][num] = data[i]['account']['subscriberCount']\n",
        "    df_post_data['platform'][num] = data[i]['account']['platform']\n",
        "    if ('postUrl' in data[i].keys()): #checking if post URL is there or not\n",
        "      df_post_data['postUrl'][num] = data[i]['postUrl']\n",
        "    df_post_data['post_type'][num] = data[i]['type']\n",
        "    df_post_data['actual_commentCount'][num] = data[i]['statistics']['actual']['commentCount']\n",
        "    df_post_data['actual_favoriteCount'][num] = data[i]['statistics']['actual']['favoriteCount']\n",
        "    df_post_data['expected_favoriteCount'][num] = data[i]['statistics']['expected']['favoriteCount']\n",
        "    df_post_data['expected_commentCount'][num] = data[i]['statistics']['expected']['commentCount']\n",
        "\n",
        "    num +=1\n",
        "  count+=1\n",
        "  if(count%5 == 0):\n",
        "    time.sleep(61)\n",
        "  if(len(req_list.json()['result']['pagination']) == 0):\n",
        "    pagination_flag = False\n",
        "  # req_list = requests.get('https://api.crowdtangle.com/posts?token='+access_token+'&listIds='+list_ids+'&count='+icount+'&startDate='+start_date_new+'&endDate='+end_date+'&sortBy=oldest')\n",
        "  print(count)\n"
      ],
      "execution_count": 20,
      "outputs": [
        {
          "output_type": "stream",
          "text": [
            "Search Indexed old start: 2020-10-05T00:00:00\n",
            "Search Indexed new start: 2020-10-05T23:59:13\n",
            "Records retrived: 68\n",
            "1\n",
            "CPU times: user 443 ms, sys: 2.9 ms, total: 445 ms\n",
            "Wall time: 1.37 s\n"
          ],
          "name": "stdout"
        }
      ]
    },
    {
      "cell_type": "code",
      "metadata": {
        "id": "s09iIYdVq8ji",
        "outputId": "87e7a598-e438-4152-950e-955b3801c7f3",
        "colab": {
          "base_uri": "https://localhost:8080/",
          "height": 51
        }
      },
      "source": [
        "print(df_post_data.shape)\n",
        "df_post_data = df_post_data.drop_duplicates()\n",
        "df_post_data = df_post_data.reset_index()\n",
        "print(df_post_data.shape)"
      ],
      "execution_count": 21,
      "outputs": [
        {
          "output_type": "stream",
          "text": [
            "(68, 12)\n",
            "(68, 13)\n"
          ],
          "name": "stdout"
        }
      ]
    },
    {
      "cell_type": "code",
      "metadata": {
        "id": "le8x-bRCPvZ3",
        "outputId": "7fac8a09-b283-4f66-f25c-44f180ba8483",
        "colab": {
          "base_uri": "https://localhost:8080/",
          "height": 51
        }
      },
      "source": [
        "print(df_post_data.shape)\n",
        "df_post_data = df_post_data.drop_duplicates()\n",
        "df_post_data = df_post_data.reset_index()\n",
        "print(df_post_data.shape)"
      ],
      "execution_count": 17,
      "outputs": [
        {
          "output_type": "stream",
          "text": [
            "(1, 13)\n",
            "(1, 14)\n"
          ],
          "name": "stdout"
        }
      ]
    },
    {
      "cell_type": "code",
      "metadata": {
        "id": "KTRbUeHTPwy9"
      },
      "source": [
        "df_post_data.to_csv('ct_5oct.csv')"
      ],
      "execution_count": 23,
      "outputs": []
    },
    {
      "cell_type": "code",
      "metadata": {
        "id": "EE4zFb8hPw2X"
      },
      "source": [
        ""
      ],
      "execution_count": null,
      "outputs": []
    },
    {
      "cell_type": "code",
      "metadata": {
        "id": "U-Em7SgGvpNN"
      },
      "source": [
        ""
      ],
      "execution_count": null,
      "outputs": []
    }
  ]
}